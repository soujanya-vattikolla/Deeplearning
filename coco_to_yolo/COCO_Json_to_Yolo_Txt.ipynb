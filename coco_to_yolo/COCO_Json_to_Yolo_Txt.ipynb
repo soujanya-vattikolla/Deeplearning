{
  "nbformat": 4,
  "nbformat_minor": 0,
  "metadata": {
    "colab": {
      "name": "COCO_Json_to_Yolo_Txt.ipynb",
      "provenance": [],
      "collapsed_sections": []
    },
    "kernelspec": {
      "name": "python3",
      "display_name": "Python 3"
    },
    "language_info": {
      "name": "python"
    }
  },
  "cells": [
    {
      "cell_type": "code",
      "source": [
        "import os\n",
        "import json\n",
        "from tqdm import tqdm\n",
        "import shutil"
      ],
      "metadata": {
        "id": "zYYkeOZZaa5E"
      },
      "execution_count": 1,
      "outputs": []
    },
    {
      "cell_type": "code",
      "source": [
        "# Convert the bounding box annotation format from COCO to YOLO:\n",
        "def convert_bbox_coco2yolo(img_width, img_height, bbox):\n",
        "    \n",
        "    # YOLO bounding box format: [x_center, y_center, width, height]\n",
        "    # (float values relative to width and height of image)\n",
        "    x_tl, y_tl, w, h = bbox\n",
        "\n",
        "    dw = 1.0 / img_width\n",
        "    dh = 1.0 / img_height\n",
        "\n",
        "    x_center = x_tl + w / 2.0\n",
        "    y_center = y_tl + h / 2.0\n",
        "\n",
        "    x = x_center * dw\n",
        "    y = y_center * dh\n",
        "    w = w * dw\n",
        "    h = h * dh\n",
        "\n",
        "    return [x, y, w, h]"
      ],
      "metadata": {
        "id": "LlgJPogVGiwi"
      },
      "execution_count": 2,
      "outputs": []
    },
    {
      "cell_type": "code",
      "execution_count": 3,
      "metadata": {
        "id": "PQuY9t5bF1OI"
      },
      "outputs": [],
      "source": [
        "# Convert COCO JSON to YOLO txt\n",
        "# create .txt file for each image based on _annotations.coco.json:\n",
        "\n",
        "def make_folders(path=\"output\"):\n",
        "    if os.path.exists(path):\n",
        "        shutil.rmtree(path)\n",
        "    os.makedirs(path)\n",
        "    return path\n",
        "\n",
        "def convert_coco_json_to_yolo_txt(output_path, json_file):\n",
        "\n",
        "    path = make_folders(output_path)\n",
        "\n",
        "    with open(json_file) as f:\n",
        "        json_data = json.load(f)\n",
        "\n",
        "    # write _darknet.labels, which holds names of all classes (one class per line)\n",
        "    label_file = os.path.join(output_path, \"_darknet.labels\")\n",
        "    with open(label_file, \"w\") as f:\n",
        "        for category in tqdm(json_data[\"categories\"], desc=\"Categories\"):\n",
        "            category_name = category[\"name\"]\n",
        "            f.write(f\"{category_name}\\n\")\n",
        "\n",
        "    for image in tqdm(json_data[\"images\"], desc=\"Annotation txt for each iamge\"):\n",
        "        img_id = image[\"id\"]\n",
        "        img_name = image[\"file_name\"]\n",
        "        img_width = image[\"width\"]\n",
        "        img_height = image[\"height\"]\n",
        "\n",
        "        anno_in_image = [anno for anno in json_data[\"annotations\"] if anno[\"image_id\"] == img_id]\n",
        "        anno_txt = os.path.join(output_path, img_name.split(\".\")[0] + \".txt\")\n",
        "        with open(anno_txt, \"w\") as f:\n",
        "            for anno in anno_in_image:\n",
        "                category = anno[\"category_id\"]\n",
        "                bbox_COCO = anno[\"bbox\"]\n",
        "                x, y, w, h = convert_bbox_coco2yolo(img_width, img_height, bbox_COCO)\n",
        "                f.write(f\"{category} {x:.6f} {y:.6f} {w:.6f} {h:.6f}\\n\")\n",
        "\n",
        "    print(\"Converting COCO Json to YOLO txt finished!\")"
      ]
    },
    {
      "cell_type": "code",
      "source": [
        "convert_coco_json_to_yolo_txt(\"output\", \"_annotations.coco.json\")"
      ],
      "metadata": {
        "colab": {
          "base_uri": "https://localhost:8080/"
        },
        "id": "Qq2NaD5jGZrL",
        "outputId": "665f3b22-c2e6-4541-98f0-4b24980d378a"
      },
      "execution_count": 5,
      "outputs": [
        {
          "output_type": "stream",
          "name": "stderr",
          "text": [
            "Categories: 100%|██████████| 4/4 [00:00<00:00, 3679.21it/s]\n",
            "Annotation txt for each iamge: 100%|██████████| 1/1 [00:00<00:00, 3184.74it/s]"
          ]
        },
        {
          "output_type": "stream",
          "name": "stdout",
          "text": [
            "Converting COCO Json to YOLO txt finished!\n"
          ]
        },
        {
          "output_type": "stream",
          "name": "stderr",
          "text": [
            "\n"
          ]
        }
      ]
    },
    {
      "cell_type": "code",
      "source": [
        "# An folder named output is created and has the structure:\n",
        "import os\n",
        "print(os.listdir(\"/content/output\"))"
      ],
      "metadata": {
        "colab": {
          "base_uri": "https://localhost:8080/"
        },
        "id": "4Lx5VKVhGuaK",
        "outputId": "4ae791a6-6ed3-4e3a-cb7b-185617c6a035"
      },
      "execution_count": 6,
      "outputs": [
        {
          "output_type": "stream",
          "name": "stdout",
          "text": [
            "['0001.txt', '_darknet.labels']\n"
          ]
        }
      ]
    },
    {
      "cell_type": "code",
      "source": [
        "# Content of _darknet.labels:\n",
        "darknet_labels = open(r'/content/output/_darknet.labels','r')\n",
        "print(darknet_labels.read())"
      ],
      "metadata": {
        "colab": {
          "base_uri": "https://localhost:8080/"
        },
        "id": "0U8aCL6tJi8i",
        "outputId": "68231162-88a6-464f-9357-072f770c098d"
      },
      "execution_count": 8,
      "outputs": [
        {
          "output_type": "stream",
          "name": "stdout",
          "text": [
            "Workers\n",
            "head\n",
            "helmet\n",
            "person\n",
            "\n"
          ]
        }
      ]
    },
    {
      "cell_type": "code",
      "source": [
        "# Content of 0001.txt:\n",
        "txt = open(r'/content/output/0001.txt','r')\n",
        "print(txt.read())"
      ],
      "metadata": {
        "colab": {
          "base_uri": "https://localhost:8080/"
        },
        "id": "xbyNaz2YIoZE",
        "outputId": "1d6776db-dbc1-4bc4-ba04-ebf1e7801aaa"
      },
      "execution_count": 9,
      "outputs": [
        {
          "output_type": "stream",
          "name": "stdout",
          "text": [
            "2 0.178571 0.161818 0.173469 0.309091\n",
            "2 0.734694 0.252727 0.146939 0.294545\n",
            "\n"
          ]
        }
      ]
    }
  ]
}